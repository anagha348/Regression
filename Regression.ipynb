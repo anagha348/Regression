{
  "nbformat": 4,
  "nbformat_minor": 0,
  "metadata": {
    "colab": {
      "name": "Regression.ipynb",
      "provenance": []
    },
    "kernelspec": {
      "name": "python3",
      "display_name": "Python 3"
    },
    "language_info": {
      "name": "python"
    }
  },
  "cells": [
    {
      "cell_type": "code",
      "execution_count": 2,
      "metadata": {
        "id": "KA3QU3G29QBY"
      },
      "outputs": [],
      "source": [
        "import numpy as np\n",
        "import pandas as pd\n",
        "import seaborn as sns\n",
        "import matplotlib.pyplot as plt\n",
        "from sklearn import preprocessing\n",
        "from sklearn.model_selection import train_test_split\n",
        "from sklearn.linear_model import LinearRegression, Lasso, Ridge\n",
        "from sklearn.datasets import make_regression\n",
        "import sklearn.metrics as metrics"
      ]
    },
    {
      "cell_type": "code",
      "source": [
        "X, y = make_regression(n_features=1, n_targets=1, noise=12)"
      ],
      "metadata": {
        "id": "K880eG1L9okL"
      },
      "execution_count": 3,
      "outputs": []
    },
    {
      "cell_type": "code",
      "source": [
        "X_train, X_test, y_train, y_test = train_test_split(X, y, test_size=0.33, random_state=42)"
      ],
      "metadata": {
        "id": "QzlbdAMy95km"
      },
      "execution_count": 4,
      "outputs": []
    },
    {
      "cell_type": "code",
      "source": [
        "lr = LinearRegression()\n",
        "lr.fit(X_train, y_train)\n",
        "print(lr.score(X_test,y_test))"
      ],
      "metadata": {
        "colab": {
          "base_uri": "https://localhost:8080/"
        },
        "id": "yGWWVnMn_gO0",
        "outputId": "5cb4edca-66fa-46f8-b273-01a47d7472cc"
      },
      "execution_count": 5,
      "outputs": [
        {
          "output_type": "stream",
          "name": "stdout",
          "text": [
            "0.9866706442937611\n"
          ]
        }
      ]
    },
    {
      "cell_type": "code",
      "source": [
        "y_pred = lr.predict(X_test)"
      ],
      "metadata": {
        "id": "sPaH3Qt3_kGe"
      },
      "execution_count": 6,
      "outputs": []
    },
    {
      "cell_type": "code",
      "source": [
        "coef = lr.coef_\n",
        "intercept = lr.intercept_\n",
        "print('coef= ', coef)\n",
        "print('intercept= ', intercept)"
      ],
      "metadata": {
        "colab": {
          "base_uri": "https://localhost:8080/"
        },
        "id": "EhwvuD-S_ngs",
        "outputId": "d9c70ee7-4cbb-44c1-8b0e-e197bdd4ccfd"
      },
      "execution_count": 7,
      "outputs": [
        {
          "output_type": "stream",
          "name": "stdout",
          "text": [
            "coef=  [93.74038818]\n",
            "intercept=  0.4940228301805263\n"
          ]
        }
      ]
    },
    {
      "cell_type": "code",
      "source": [
        "mae = metrics.mean_absolute_error(y_test, y_pred)\n",
        "mse = metrics.mean_squared_error(y_test, y_pred)\n",
        "rmse = np.sqrt(mse) # or mse**(0.5)  \n",
        "r2 = metrics.r2_score(y_test,y_pred)\n",
        "\n",
        "print(\"Results of sklearn.metrics:\")\n",
        "print(\"MAE:\",mae)\n",
        "print(\"MSE:\", mse)\n",
        "print(\"RMSE:\", rmse)\n",
        "print(\"R-Squared:\", r2)"
      ],
      "metadata": {
        "colab": {
          "base_uri": "https://localhost:8080/"
        },
        "id": "-ObyPyWD_rar",
        "outputId": "aef36889-cc31-4ea1-81a9-7c0cbe975d75"
      },
      "execution_count": 8,
      "outputs": [
        {
          "output_type": "stream",
          "name": "stdout",
          "text": [
            "Results of sklearn.metrics:\n",
            "MAE: 10.832015115150336\n",
            "MSE: 154.81855348278793\n",
            "RMSE: 12.442610396648604\n",
            "R-Squared: 0.9866706442937611\n"
          ]
        }
      ]
    },
    {
      "cell_type": "code",
      "source": [
        "plt.scatter(y_pred, y_test, color=\"black\")\n",
        "plt.plot(y_pred, y_pred, color=\"blue\", linewidth=3)"
      ],
      "metadata": {
        "colab": {
          "base_uri": "https://localhost:8080/",
          "height": 282
        },
        "id": "TgcKSN7-_vio",
        "outputId": "dc871071-34c1-4aee-d1c0-ae353fcc105b"
      },
      "execution_count": 9,
      "outputs": [
        {
          "output_type": "execute_result",
          "data": {
            "text/plain": [
              "[<matplotlib.lines.Line2D at 0x7f4a788602d0>]"
            ]
          },
          "metadata": {},
          "execution_count": 9
        },
        {
          "output_type": "display_data",
          "data": {
            "text/plain": [
              "<Figure size 432x288 with 1 Axes>"
            ],
            "image/png": "[encoded data removed]"
          },
          "metadata": {
            "needs_background": "light"
          }
        }
      ]
    },
    {
      "cell_type": "markdown",
      "source": [
        "**Multivariate Regression**"
      ],
      "metadata": {
        "id": "igsGvFoM-6ls"
      }
    },
    {
      "cell_type": "code",
      "source": [
        "X, y = make_regression(n_features=12, n_targets=1, noise=47)"
      ],
      "metadata": {
        "id": "MYik3WN1_zQW"
      },
      "execution_count": 10,
      "outputs": []
    },
    {
      "cell_type": "code",
      "source": [
        "X_train, X_test, y_train, y_test = train_test_split(X, y, test_size=0.33, random_state=42)"
      ],
      "metadata": {
        "id": "akj42SBx-7wx"
      },
      "execution_count": 11,
      "outputs": []
    },
    {
      "cell_type": "code",
      "source": [
        "lr = LinearRegression()\n",
        "lr.fit(X_train, y_train)\n",
        "print(lr.score(X_test,y_test))"
      ],
      "metadata": {
        "colab": {
          "base_uri": "https://localhost:8080/"
        },
        "id": "whlrEuRXAP3h",
        "outputId": "2e93b837-9385-4ba1-f225-058fcefb38b1"
      },
      "execution_count": 12,
      "outputs": [
        {
          "output_type": "stream",
          "name": "stdout",
          "text": [
            "0.9194236332053977\n"
          ]
        }
      ]
    },
    {
      "cell_type": "code",
      "source": [
        "y_pred = lr.predict(X_test)"
      ],
      "metadata": {
        "id": "rEj4l1xXATIi"
      },
      "execution_count": 13,
      "outputs": []
    },
    {
      "cell_type": "code",
      "source": [
        "coef = lr.coef_\n",
        "intercept = lr.intercept_\n",
        "print('coef= ', coef)\n",
        "print('intercept= ', intercept)"
      ],
      "metadata": {
        "colab": {
          "base_uri": "https://localhost:8080/"
        },
        "id": "vWF4QVnjAZTp",
        "outputId": "a2878215-0279-4885-f458-f17d155c0ec0"
      },
      "execution_count": 14,
      "outputs": [
        {
          "output_type": "stream",
          "name": "stdout",
          "text": [
            "coef=  [56.10131377 66.48363603 48.23296398  0.93329419 31.05083498 80.04813908\n",
            " -7.37470579 11.13035345 36.95130199 24.15046934 70.32320649 -3.98613087]\n",
            "intercept=  10.100357310224696\n"
          ]
        }
      ]
    },
    {
      "cell_type": "code",
      "source": [
        "mae = metrics.mean_absolute_error(y_test, y_pred)\n",
        "mse = metrics.mean_squared_error(y_test, y_pred)\n",
        "rmse = np.sqrt(mse) # or mse**(0.5)  \n",
        "r2 = metrics.r2_score(y_test,y_pred)\n",
        "\n",
        "print(\"MAE:\",mae)\n",
        "print(\"MSE:\", mse)\n",
        "print(\"RMSE:\", rmse)\n",
        "print(\"R-Squared:\", r2)"
      ],
      "metadata": {
        "colab": {
          "base_uri": "https://localhost:8080/"
        },
        "id": "AhBMv_KfAbqK",
        "outputId": "e2540897-a244-4ab8-c692-468fe64ecda5"
      },
      "execution_count": 15,
      "outputs": [
        {
          "output_type": "stream",
          "name": "stdout",
          "text": [
            "MAE: 35.611192600071405\n",
            "MSE: 2130.512843812662\n",
            "RMSE: 46.15747874194021\n",
            "R-Squared: 0.9194236332053977\n"
          ]
        }
      ]
    },
    {
      "cell_type": "code",
      "source": [
        "y_pred"
      ],
      "metadata": {
        "colab": {
          "base_uri": "https://localhost:8080/"
        },
        "id": "Ulai4dMEAfxJ",
        "outputId": "56ae21cd-9291-4f81-9d0d-735e0338b3f5"
      },
      "execution_count": 16,
      "outputs": [
        {
          "output_type": "execute_result",
          "data": {
            "text/plain": [
              "array([  15.15053291,  180.84190881,    1.58049186,   41.60009163,\n",
              "       -158.68087593, -271.73063422,  133.9420825 ,  250.99207054,\n",
              "       -156.78774066,  -50.77996725, -110.0180695 , -110.44790562,\n",
              "       -117.49766044, -154.34432759,  -52.41387872,   95.70762613,\n",
              "        -69.90991633, -109.83073153, -200.06478944, -273.87880687,\n",
              "       -121.60788973, -353.59513985,   84.38134757,  243.19471406,\n",
              "       -324.16965374,  259.1431858 ,  -46.32311983,  -45.64372213,\n",
              "         30.37701163, -332.92443215,  -10.33327919, -106.99917516,\n",
              "       -173.24012847])"
            ]
          },
          "metadata": {},
          "execution_count": 16
        }
      ]
    },
    {
      "cell_type": "markdown",
      "source": [
        "## Lasso Regression"
      ],
      "metadata": {
        "id": "c1N7XtgAArtY"
      }
    },
    {
      "cell_type": "code",
      "source": [
        "X, y = make_regression(n_features=12, n_targets=1, noise=47)"
      ],
      "metadata": {
        "id": "FofCf3VrAoDN"
      },
      "execution_count": 17,
      "outputs": []
    },
    {
      "cell_type": "code",
      "source": [
        "X_train, X_test, y_train, y_test = train_test_split(X, y, test_size=0.33, random_state=42)"
      ],
      "metadata": {
        "id": "SW-cHNNrAy4N"
      },
      "execution_count": 18,
      "outputs": []
    },
    {
      "cell_type": "code",
      "source": [
        "lr = Lasso()\n",
        "lr.fit(X_train, y_train)\n",
        "print(lr.score(X_test,y_test))"
      ],
      "metadata": {
        "colab": {
          "base_uri": "https://localhost:8080/"
        },
        "id": "sB9wVraYA275",
        "outputId": "60138947-d590-4b04-9520-e40a15fd9198"
      },
      "execution_count": 19,
      "outputs": [
        {
          "output_type": "stream",
          "name": "stdout",
          "text": [
            "0.9281788320847932\n"
          ]
        }
      ]
    },
    {
      "cell_type": "code",
      "source": [
        "y_pred = lr.predict(X_test)"
      ],
      "metadata": {
        "id": "Y2yaowAHA6ad"
      },
      "execution_count": 20,
      "outputs": []
    },
    {
      "cell_type": "code",
      "source": [
        "coef = lr.coef_\n",
        "intercept = lr.intercept_\n",
        "print('coef= ', coef)\n",
        "print('intercept= ', intercept)"
      ],
      "metadata": {
        "colab": {
          "base_uri": "https://localhost:8080/"
        },
        "id": "jeJFW-j4A9gz",
        "outputId": "2deb7aeb-840a-4d1a-b700-4f580a33df00"
      },
      "execution_count": 21,
      "outputs": [
        {
          "output_type": "stream",
          "name": "stdout",
          "text": [
            "coef=  [ 8.25443449 96.50947309 56.50531843  5.48871841 85.82846462 -1.02513349\n",
            " 16.15598109 94.19521132 -5.3404391  32.34011265 57.6539898  67.87658215]\n",
            "intercept=  -8.835792956151653\n"
          ]
        }
      ]
    },
    {
      "cell_type": "code",
      "source": [
        "mae = metrics.mean_absolute_error(y_test, y_pred)\n",
        "mse = metrics.mean_squared_error(y_test, y_pred)\n",
        "rmse = np.sqrt(mse) # or mse**(0.5)  \n",
        "r2 = metrics.r2_score(y_test,y_pred)\n",
        "\n",
        "print(\"MAE:\",mae)\n",
        "print(\"MSE:\", mse)\n",
        "print(\"RMSE:\", rmse)\n",
        "print(\"R-Squared:\", r2)"
      ],
      "metadata": {
        "colab": {
          "base_uri": "https://localhost:8080/"
        },
        "id": "K9k1xe__BAkv",
        "outputId": "e8720c64-8257-4acc-d755-cb944471a064"
      },
      "execution_count": 22,
      "outputs": [
        {
          "output_type": "stream",
          "name": "stdout",
          "text": [
            "MAE: 47.176402966408304\n",
            "MSE: 3418.802914101178\n",
            "RMSE: 58.47053030460027\n",
            "R-Squared: 0.9281788320847932\n"
          ]
        }
      ]
    },
    {
      "cell_type": "code",
      "source": [
        "y_pred"
      ],
      "metadata": {
        "colab": {
          "base_uri": "https://localhost:8080/"
        },
        "id": "bzV29kXWBEOW",
        "outputId": "012f16dd-4e1b-45fe-a012-bb1bd7e16000"
      },
      "execution_count": 23,
      "outputs": [
        {
          "output_type": "execute_result",
          "data": {
            "text/plain": [
              "array([  83.55621732, -264.34448179,  116.4114125 , -245.71305784,\n",
              "        -56.58528597,  -12.07234852,   10.20901229,  123.17315831,\n",
              "       -404.42768765,  213.91739845,    2.63531052,  -81.23213899,\n",
              "        178.32435036,  -94.63806673,   78.80530028, -528.1323538 ,\n",
              "        163.85765191, -254.90359681,  152.43665402,  237.88422305,\n",
              "        427.89142243, -132.3149942 ,   50.25131701,  316.83249792,\n",
              "       -164.45972246,  -85.53123241, -223.09705773,  -93.36527274,\n",
              "       -359.50001912,  159.39109842,  -90.06253743,  -77.73910016,\n",
              "        -36.23004207])"
            ]
          },
          "metadata": {},
          "execution_count": 23
        }
      ]
    },
    {
      "cell_type": "markdown",
      "source": [
        "## Ridge Regression"
      ],
      "metadata": {
        "id": "sfpfXoumBQ5h"
      }
    },
    {
      "cell_type": "code",
      "source": [
        "X, y = make_regression(n_features=12, n_targets=1, noise=47)"
      ],
      "metadata": {
        "id": "5fs5GzFdBOFi"
      },
      "execution_count": 24,
      "outputs": []
    },
    {
      "cell_type": "code",
      "source": [
        "X_train, X_test, y_train, y_test = train_test_split(X, y, test_size=0.33, random_state=42)"
      ],
      "metadata": {
        "id": "qvxmQjzABVlN"
      },
      "execution_count": 25,
      "outputs": []
    },
    {
      "cell_type": "code",
      "source": [
        "lr = Ridge()\n",
        "lr.fit(X_train, y_train)\n",
        "print(lr.score(X_test,y_test))"
      ],
      "metadata": {
        "colab": {
          "base_uri": "https://localhost:8080/"
        },
        "id": "6lPBBQSiBcye",
        "outputId": "b8f850dd-daa2-4773-c289-762bfa40c8b6"
      },
      "execution_count": 26,
      "outputs": [
        {
          "output_type": "stream",
          "name": "stdout",
          "text": [
            "0.9789147482563815\n"
          ]
        }
      ]
    },
    {
      "cell_type": "code",
      "source": [
        "y_pred = lr.predict(X_test)"
      ],
      "metadata": {
        "id": "a-dUir5mBsh3"
      },
      "execution_count": 27,
      "outputs": []
    },
    {
      "cell_type": "code",
      "source": [
        "coef = lr.coef_\n",
        "intercept = lr.intercept_\n",
        "print('coef= ', coef)\n",
        "print('intercept= ', intercept)"
      ],
      "metadata": {
        "colab": {
          "base_uri": "https://localhost:8080/"
        },
        "id": "agPEtTm1BuSQ",
        "outputId": "703e12d6-7013-42a7-b4fe-3bb823d8b358"
      },
      "execution_count": 28,
      "outputs": [
        {
          "output_type": "stream",
          "name": "stdout",
          "text": [
            "coef=  [28.41462797 75.32508955 77.91375634 88.46960945 45.90359552 21.47498753\n",
            " 94.57182468  9.06958739 66.02113146 -7.4764974  22.65755358 39.82830479]\n",
            "intercept=  6.630682248940415\n"
          ]
        }
      ]
    },
    {
      "cell_type": "code",
      "source": [
        "mae = metrics.mean_absolute_error(y_test, y_pred)\n",
        "mse = metrics.mean_squared_error(y_test, y_pred)\n",
        "rmse = np.sqrt(mse) # or mse**(0.5)  \n",
        "r2 = metrics.r2_score(y_test,y_pred)\n",
        "\n",
        "print(\"MAE:\",mae)\n",
        "print(\"MSE:\", mse)\n",
        "print(\"RMSE:\", rmse)\n",
        "print(\"R-Squared:\", r2)"
      ],
      "metadata": {
        "colab": {
          "base_uri": "https://localhost:8080/"
        },
        "id": "N_qObNsfB2Zn",
        "outputId": "4fa578ae-f012-49cd-fe81-b149c7a02d85"
      },
      "execution_count": 29,
      "outputs": [
        {
          "output_type": "stream",
          "name": "stdout",
          "text": [
            "MAE: 29.00442660803592\n",
            "MSE: 1197.283940389521\n",
            "RMSE: 34.60179099973759\n",
            "R-Squared: 0.9789147482563815\n"
          ]
        }
      ]
    },
    {
      "cell_type": "code",
      "source": [
        "y_pred"
      ],
      "metadata": {
        "colab": {
          "base_uri": "https://localhost:8080/"
        },
        "id": "mAYS7WVKB7kd",
        "outputId": "a46bb1d5-ddd3-4de9-db89-e8edf9770055"
      },
      "execution_count": 30,
      "outputs": [
        {
          "output_type": "execute_result",
          "data": {
            "text/plain": [
              "array([ 161.62170852, -308.12895275,   79.6152955 ,  260.76104799,\n",
              "         40.59318009,  104.34025362,  155.50440768,  125.03729548,\n",
              "        -67.68942054,   32.93153172,   83.52010562,  463.85610039,\n",
              "         67.89657036, -134.55410498, -719.21230016,   79.04220327,\n",
              "         79.2950984 ,  283.59002875, -196.53153535,   78.30915326,\n",
              "        521.41556461,  -50.16169058,  -80.54529714,  371.39235271,\n",
              "        143.54017561,  306.95030591,  201.94956033,   56.87708319,\n",
              "        364.93762644,  184.99681918,  297.67037955,  215.84133902,\n",
              "         69.27158079])"
            ]
          },
          "metadata": {},
          "execution_count": 30
        }
      ]
    }
  ]
}